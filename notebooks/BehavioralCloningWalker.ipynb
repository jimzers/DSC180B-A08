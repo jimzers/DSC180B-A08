{
 "cells": [
  {
   "cell_type": "code",
   "execution_count": 1,
   "id": "4f46fb5f",
   "metadata": {},
   "outputs": [
    {
     "name": "stdout",
     "output_type": "stream",
     "text": [
      "cuda:0\n"
     ]
    }
   ],
   "source": [
    "### Feel free to disable GPU if you don't have one\n",
    "import torch\n",
    "\n",
    "device = torch.device(\"cuda:0\" if torch.cuda.is_available() else \"cpu\")\n",
    "print(device)\n",
    "torch.cuda.is_available()\n",
    "\n",
    "import gym\n",
    "import numpy as np"
   ]
  },
  {
   "cell_type": "markdown",
   "id": "d9455204",
   "metadata": {},
   "source": [
    "# Behavioral Cloning"
   ]
  },
  {
   "cell_type": "markdown",
   "id": "21e262b5",
   "metadata": {},
   "source": [
    "## Rollout Storage"
   ]
  },
  {
   "cell_type": "code",
   "execution_count": 2,
   "id": "1fa322e2",
   "metadata": {},
   "outputs": [],
   "source": [
    "### Make a data structure to load and store Rollouts.\n",
    "### At the very least, you'll need observations and actions.\n",
    "\n",
    "class RolloutStorage:\n",
    "    \"\"\"\n",
    "    An object for easy load and get batch\n",
    "    from the action and observations\n",
    "    \"\"\"\n",
    "    def __init__(self):\n",
    "        self.obs = None\n",
    "        self.action = None\n",
    "\n",
    "    def load_actions(self, file_name):\n",
    "        self.action = np.load(file_name)\n",
    "    \n",
    "    def load_obs(self, file_name):\n",
    "        self.obs = np.load(file_name)\n",
    "\n",
    "    def get_batch(self, batch_size):\n",
    "        curr = 0\n",
    "        while len(self.obs) >= curr:\n",
    "            yield self.obs[curr:curr+batch_size], self.action[curr:curr+batch_size]\n",
    "            curr += batch_size"
   ]
  },
  {
   "cell_type": "code",
   "execution_count": 3,
   "id": "816e6b9a",
   "metadata": {},
   "outputs": [],
   "source": [
    "storage = RolloutStorage()\n",
    "storage.load_actions(\"../data/rollouts/actions_500.npy\")\n",
    "storage.load_obs(\"../data/rollouts/states_500.npy\")"
   ]
  },
  {
   "cell_type": "code",
   "execution_count": 4,
   "id": "2ac8869e",
   "metadata": {},
   "outputs": [
    {
     "data": {
      "text/plain": [
       "((500000, 24), (500000, 6))"
      ]
     },
     "execution_count": 4,
     "metadata": {},
     "output_type": "execute_result"
    }
   ],
   "source": [
    "storage.obs.shape, storage.action.shape"
   ]
  },
  {
   "cell_type": "code",
   "execution_count": 5,
   "id": "5fc37a74",
   "metadata": {},
   "outputs": [
    {
     "data": {
      "text/plain": [
       "-0.99993634"
      ]
     },
     "execution_count": 5,
     "metadata": {},
     "output_type": "execute_result"
    }
   ],
   "source": [
    "storage.action.min()"
   ]
  },
  {
   "cell_type": "markdown",
   "id": "e84577f5",
   "metadata": {},
   "source": [
    "## BC Network"
   ]
  },
  {
   "cell_type": "code",
   "execution_count": 9,
   "id": "9fe8fcc8",
   "metadata": {},
   "outputs": [],
   "source": [
    "### Define a network that you'll train through behavioral cloning (supervised learning)\n",
    "\n",
    "import torch\n",
    "import torch.nn as nn\n",
    "import torch.nn.functional as F\n",
    "\n",
    "# BCNetwork with continuous action space\n",
    "class BCNetwork(nn.Module):\n",
    "    def __init__(self, obs_dim, action_dim, hidden_dim):\n",
    "        # assumes that observation and action are one-dimensional\n",
    "        super(BCNetwork, self).__init__()\n",
    "        self.obs_dim = obs_dim\n",
    "        self.action_dim = action_dim\n",
    "        self.fc1 = nn.Linear(self.obs_dim, hidden_dim)\n",
    "        self.fc2 = nn.Linear(hidden_dim, hidden_dim)\n",
    "        \n",
    "        self.mean_linear = nn.Linear(hidden_dim, self.action_dim)\n",
    "        self.log_std_linear = nn.Linear(hidden_dim, self.action_dim)\n",
    "\n",
    "    def forward(self, obs):\n",
    "        x = F.relu(self.fc1(obs.to(device)))\n",
    "        x = F.relu(self.fc2(x))\n",
    "        x = self.mean_linear(x)\n",
    "        return torch.tanh(x)"
   ]
  },
  {
   "cell_type": "markdown",
   "id": "fa920efd",
   "metadata": {},
   "source": [
    "## Trainning Procedures"
   ]
  },
  {
   "cell_type": "code",
   "execution_count": null,
   "id": "7a1f24d7",
   "metadata": {},
   "outputs": [
    {
     "name": "stdout",
     "output_type": "stream",
     "text": [
      "num batches = 488\n",
      "Epoch: 1, Loss: 0.2810342876759709\n",
      "Epoch: 11, Loss: 0.2582145448713029\n",
      "Epoch: 21, Loss: 0.2545624172589818\n",
      "Epoch: 31, Loss: 0.25208555693264867\n",
      "Epoch: 41, Loss: 0.24991686052841242\n",
      "Epoch: 51, Loss: 0.2478536468182431\n",
      "Epoch: 61, Loss: 0.2458549211809381\n",
      "Epoch: 71, Loss: 0.24391384911341746\n",
      "Epoch: 81, Loss: 0.24204727753874708\n",
      "Epoch: 91, Loss: 0.24024596236279752\n",
      "Epoch: 101, Loss: 0.2385489151003908\n",
      "Epoch: 111, Loss: 0.23689354913400823\n",
      "Epoch: 121, Loss: 0.23532821989206018\n",
      "Epoch: 131, Loss: 0.23385423974546252\n",
      "Epoch: 141, Loss: 0.23243369803321165\n",
      "Epoch: 151, Loss: 0.23104420356208183\n",
      "Epoch: 161, Loss: 0.22972029743746655\n",
      "Epoch: 171, Loss: 0.22849659493467847\n",
      "Epoch: 181, Loss: 0.22732383678438234\n",
      "Epoch: 191, Loss: 0.22616824535194968\n",
      "Epoch: 201, Loss: 0.22506856362594932\n",
      "Epoch: 211, Loss: 0.22399559714755074\n",
      "Epoch: 221, Loss: 0.22313213617098135\n",
      "Epoch: 231, Loss: 0.2221553444740225\n",
      "Epoch: 241, Loss: 0.22133675932151373\n",
      "Epoch: 251, Loss: 0.22031775788694133\n",
      "Epoch: 261, Loss: 0.21956958374405494\n",
      "Epoch: 271, Loss: 0.21856233950887546\n",
      "Epoch: 281, Loss: 0.2179661439884393\n",
      "Epoch: 291, Loss: 0.21710513113829932\n",
      "Epoch: 301, Loss: 0.2163662726029021\n",
      "Epoch: 311, Loss: 0.21565619584356174\n",
      "Epoch: 321, Loss: 0.2149753809952345\n",
      "Epoch: 331, Loss: 0.21414501470376235\n",
      "Epoch: 341, Loss: 0.21367913539536665\n",
      "Epoch: 351, Loss: 0.21297326858048557\n",
      "Epoch: 361, Loss: 0.21228390452681017\n",
      "Epoch: 371, Loss: 0.21173542966974562\n",
      "Epoch: 381, Loss: 0.21115353834800055\n",
      "Epoch: 391, Loss: 0.21067179156253574\n",
      "Epoch: 401, Loss: 0.21004897908719836\n",
      "Epoch: 411, Loss: 0.20949987334306122\n",
      "Epoch: 421, Loss: 0.20904949921198557\n",
      "Epoch: 431, Loss: 0.2086078140762497\n",
      "Epoch: 441, Loss: 0.2080245386870181\n",
      "Epoch: 451, Loss: 0.20754124150901546\n",
      "Epoch: 461, Loss: 0.20707312812570666\n",
      "Epoch: 471, Loss: 0.20667096743451768\n",
      "Epoch: 481, Loss: 0.20620386045975764\n",
      "Epoch: 491, Loss: 0.2056741788983345\n",
      "Epoch: 501, Loss: 0.20531645908829618\n",
      "Epoch: 511, Loss: 0.2049391267851728\n",
      "Epoch: 521, Loss: 0.2044363515909578\n"
     ]
    }
   ],
   "source": [
    "### Train the network\n",
    "\n",
    "# initialize the network\n",
    "network = BCNetwork(storage.obs.shape[1], storage.action.shape[1], 1024).to(device)\n",
    "\n",
    "# define the optimizer\n",
    "optimizer = torch.optim.Adam(network.parameters(), lr=3e-4)\n",
    "\n",
    "# define the loss function\n",
    "loss_fn = nn.MSELoss()\n",
    "\n",
    "# define the number of epochs\n",
    "num_epochs = 1000\n",
    "\n",
    "# define the batch size\n",
    "batch_size = 1024\n",
    "\n",
    "# define the number of batches\n",
    "num_batches = len(storage.obs) // batch_size\n",
    "print(f\"num batches = {num_batches}\")\n",
    "\n",
    "# note: you can keep the obs and action completely in memory \n",
    "# (the training loop is set up for that). make sure that:\n",
    "# 1. the types are correct\n",
    "# 2. the shapes match\n",
    "\n",
    "# train the network\n",
    "for epoch in range(num_epochs):\n",
    "    gen = storage.get_batch(batch_size)\n",
    "    # accumulate loss\n",
    "    epoch_loss = 0\n",
    "\n",
    "    for batch in range(num_batches):\n",
    "        # get the batch somehow. you can either write a method \n",
    "        # into the storage class or just directly access the \n",
    "        # values in it\n",
    "        \n",
    "        batch_obs, batch_action = next(gen)\n",
    "        batch_obs, batch_action = torch.FloatTensor(batch_obs), torch.FloatTensor(batch_action)\n",
    "        # forward pass\n",
    "        logits = network(batch_obs.to(device))\n",
    "        # need to squeeze out the extra dimension\n",
    "        logits = torch.squeeze(logits).cpu()\n",
    "    \n",
    "        # compute the loss\n",
    "        loss = loss_fn(logits, batch_action)\n",
    "\n",
    "        # backward pass\n",
    "        optimizer.zero_grad()\n",
    "        loss.backward()\n",
    "        optimizer.step()\n",
    "\n",
    "        # accumulate loss\n",
    "        epoch_loss += loss.item()\n",
    "    # print the loss\n",
    "    if epoch % 10 == 1:\n",
    "        print(\"Epoch: {}, Loss: {}\".format(epoch, epoch_loss / num_batches))"
   ]
  },
  {
   "cell_type": "markdown",
   "id": "af274c92",
   "metadata": {},
   "source": [
    "# BC Model Eval"
   ]
  },
  {
   "cell_type": "code",
   "execution_count": null,
   "id": "40ed088f",
   "metadata": {},
   "outputs": [],
   "source": [
    "### run the trained network on the environment, based on the evaluate function but using network instead of model\n",
    "def evaluate_network(network, num_episodes=100):\n",
    "    \"\"\"\n",
    "    Evaluate a RL agent\n",
    "    :param model: (BaseRLModel object) the RL Agent\n",
    "    :param num_episodes: (int) number of episodes to evaluate it\n",
    "    :return: (float) Mean reward for the last num_episodes\n",
    "    \"\"\"\n",
    "    all_episode_rewards = []\n",
    "    for i in range(num_episodes):\n",
    "        episode_rewards = []\n",
    "        done = False\n",
    "        obs = env.reset()\n",
    "        while not done:\n",
    "            # _states are only useful when using LSTM policies\n",
    "            # need to add the additional dimenstion becuase of the \n",
    "            # single batch training\n",
    "            action = network(torch.tensor([obs], dtype=torch.float32))\n",
    "            obs, reward, done, info = env.step([action])\n",
    "            episode_rewards.append(reward)\n",
    "\n",
    "        all_episode_rewards.append(sum(episode_rewards))\n",
    "\n",
    "    mean_episode_reward = np.mean(all_episode_rewards)\n",
    "    print(\"Mean reward:\", mean_episode_reward, \"Num episodes:\", num_episodes)\n",
    "\n",
    "    return mean_episode_reward\n",
    "\n",
    "evaluate_network(network)"
   ]
  }
 ],
 "metadata": {
  "kernelspec": {
   "display_name": "Python 3 (clean)",
   "language": "python",
   "name": "python3_clean"
  },
  "language_info": {
   "codemirror_mode": {
    "name": "ipython",
    "version": 3
   },
   "file_extension": ".py",
   "mimetype": "text/x-python",
   "name": "python",
   "nbconvert_exporter": "python",
   "pygments_lexer": "ipython3",
   "version": "3.9.5"
  }
 },
 "nbformat": 4,
 "nbformat_minor": 5
}
