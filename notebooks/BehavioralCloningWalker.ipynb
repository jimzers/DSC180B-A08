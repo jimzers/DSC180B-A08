{
 "cells": [
  {
   "cell_type": "code",
   "execution_count": 1,
   "id": "4f46fb5f",
   "metadata": {},
   "outputs": [
    {
     "name": "stdout",
     "output_type": "stream",
     "text": [
      "cuda:0\n"
     ]
    }
   ],
   "source": [
    "### Feel free to disable GPU if you don't have one\n",
    "import torch\n",
    "\n",
    "device = torch.device(\"cuda:0\" if torch.cuda.is_available() else \"cpu\")\n",
    "print(device)\n",
    "torch.cuda.is_available()\n",
    "\n",
    "import gym\n",
    "import numpy as np"
   ]
  },
  {
   "cell_type": "markdown",
   "id": "d9455204",
   "metadata": {},
   "source": [
    "# Behavioral Cloning"
   ]
  },
  {
   "cell_type": "markdown",
   "id": "21e262b5",
   "metadata": {},
   "source": [
    "## Rollout Storage"
   ]
  },
  {
   "cell_type": "code",
   "execution_count": 2,
   "id": "1fa322e2",
   "metadata": {},
   "outputs": [],
   "source": [
    "### Make a data structure to load and store Rollouts.\n",
    "### At the very least, you'll need observations and actions.\n",
    "\n",
    "class RolloutStorage:\n",
    "    \"\"\"\n",
    "    An object for easy load and get batch\n",
    "    from the action and observations\n",
    "    \"\"\"\n",
    "    def __init__(self):\n",
    "        self.obs = None\n",
    "        self.action = None\n",
    "\n",
    "    def load_actions(self, file_name):\n",
    "        self.action = np.load(file_name)\n",
    "    \n",
    "    def load_obs(self, file_name):\n",
    "        self.obs = np.load(file_name)\n",
    "\n",
    "    def get_batch(self, batch_size):\n",
    "        curr = 0\n",
    "        while len(self.obs) >= curr:\n",
    "            yield self.obs[curr:curr+batch_size], self.action[curr:curr+batch_size]\n",
    "            curr += batch_size"
   ]
  },
  {
   "cell_type": "code",
   "execution_count": 3,
   "id": "816e6b9a",
   "metadata": {},
   "outputs": [],
   "source": [
    "storage = RolloutStorage()\n",
    "storage.load_actions(\"../data/rollouts/actions_500.npy\")\n",
    "storage.load_obs(\"../data/rollouts/states_500.npy\")"
   ]
  },
  {
   "cell_type": "code",
   "execution_count": 4,
   "id": "2ac8869e",
   "metadata": {},
   "outputs": [
    {
     "data": {
      "text/plain": [
       "((500000, 24), (500000, 6))"
      ]
     },
     "execution_count": 4,
     "metadata": {},
     "output_type": "execute_result"
    }
   ],
   "source": [
    "storage.obs.shape, storage.action.shape"
   ]
  },
  {
   "cell_type": "code",
   "execution_count": 5,
   "id": "5fc37a74",
   "metadata": {},
   "outputs": [
    {
     "data": {
      "text/plain": [
       "-0.99993634"
      ]
     },
     "execution_count": 5,
     "metadata": {},
     "output_type": "execute_result"
    }
   ],
   "source": [
    "storage.action.min()"
   ]
  },
  {
   "cell_type": "markdown",
   "id": "e84577f5",
   "metadata": {},
   "source": [
    "## BC Network"
   ]
  },
  {
   "cell_type": "code",
   "execution_count": 6,
   "id": "9fe8fcc8",
   "metadata": {},
   "outputs": [],
   "source": [
    "### Define a network that you'll train through behavioral cloning (supervised learning)\n",
    "\n",
    "import torch\n",
    "import torch.nn as nn\n",
    "import torch.nn.functional as F\n",
    "\n",
    "# BCNetwork with continuous action space\n",
    "class BCNetwork(nn.Module):\n",
    "    def __init__(self, obs_dim, action_dim, hidden_dim):\n",
    "        # assumes that observation and action are one-dimensional\n",
    "        super(BCNetwork, self).__init__()\n",
    "        self.obs_dim = obs_dim\n",
    "        self.action_dim = action_dim\n",
    "        self.fc1 = nn.Linear(self.obs_dim, hidden_dim)\n",
    "        self.fc2 = nn.Linear(hidden_dim, hidden_dim)\n",
    "        \n",
    "        self.mean_linear = nn.Linear(hidden_dim, self.action_dim)\n",
    "        self.log_std_linear = nn.Linear(hidden_dim, self.action_dim)\n",
    "\n",
    "    def forward(self, obs):\n",
    "        x = F.relu(self.fc1(obs.to(device)))\n",
    "        x = F.relu(self.fc2(x))\n",
    "        x = self.mean_linear(x)\n",
    "        return torch.tanh(x)"
   ]
  },
  {
   "cell_type": "markdown",
   "id": "fa920efd",
   "metadata": {},
   "source": [
    "## Trainning Procedures"
   ]
  },
  {
   "cell_type": "code",
   "execution_count": 13,
   "id": "4d12dc40",
   "metadata": {},
   "outputs": [
    {
     "data": {
      "text/plain": [
       "(24, 6, 1024)"
      ]
     },
     "execution_count": 13,
     "metadata": {},
     "output_type": "execute_result"
    }
   ],
   "source": [
    "storage.obs.shape[1], storage.action.shape[1], 1024"
   ]
  },
  {
   "cell_type": "code",
   "execution_count": 8,
   "id": "7a1f24d7",
   "metadata": {},
   "outputs": [
    {
     "name": "stdout",
     "output_type": "stream",
     "text": [
      "num batches = 488\n"
     ]
    }
   ],
   "source": [
    "### Train the network\n",
    "\n",
    "# initialize the network\n",
    "network = BCNetwork(storage.obs.shape[1], storage.action.shape[1], 1024).to(device)\n",
    "\n",
    "# define the optimizer\n",
    "optimizer = torch.optim.Adam(network.parameters(), lr=3e-4)\n",
    "\n",
    "# define the loss function\n",
    "loss_fn = nn.MSELoss()\n",
    "\n",
    "# define the number of epochs\n",
    "num_epochs = 2000\n",
    "\n",
    "# define the batch size\n",
    "batch_size = 1024\n",
    "\n",
    "# define the number of batches\n",
    "num_batches = len(storage.obs) // batch_size\n",
    "print(f\"num batches = {num_batches}\")"
   ]
  },
  {
   "cell_type": "code",
   "execution_count": 9,
   "id": "af85766c",
   "metadata": {},
   "outputs": [
    {
     "name": "stdout",
     "output_type": "stream",
     "text": [
      "Epoch: 1, Loss: 0.2806812242650595\n",
      "Epoch: 11, Loss: 0.258284828824098\n",
      "Epoch: 21, Loss: 0.254534284996449\n",
      "Epoch: 31, Loss: 0.2520805715781743\n",
      "Epoch: 41, Loss: 0.24992913215375337\n",
      "Epoch: 51, Loss: 0.2478727382897842\n",
      "Epoch: 61, Loss: 0.24588215842720915\n",
      "Epoch: 71, Loss: 0.24398261424703677\n",
      "Epoch: 81, Loss: 0.24215034578667313\n",
      "Epoch: 91, Loss: 0.24036939161234214\n",
      "Epoch: 101, Loss: 0.23866415408546807\n"
     ]
    },
    {
     "ename": "KeyboardInterrupt",
     "evalue": "",
     "output_type": "error",
     "traceback": [
      "\u001b[0;31m---------------------------------------------------------------------------\u001b[0m",
      "\u001b[0;31mKeyboardInterrupt\u001b[0m                         Traceback (most recent call last)",
      "Cell \u001b[0;32mIn [9], line 17\u001b[0m\n\u001b[1;32m     15\u001b[0m logits \u001b[38;5;241m=\u001b[39m network(batch_obs\u001b[38;5;241m.\u001b[39mto(device))\n\u001b[1;32m     16\u001b[0m \u001b[38;5;66;03m# need to squeeze out the extra dimension\u001b[39;00m\n\u001b[0;32m---> 17\u001b[0m logits \u001b[38;5;241m=\u001b[39m \u001b[43mtorch\u001b[49m\u001b[38;5;241;43m.\u001b[39;49m\u001b[43msqueeze\u001b[49m\u001b[43m(\u001b[49m\u001b[43mlogits\u001b[49m\u001b[43m)\u001b[49m\u001b[38;5;241;43m.\u001b[39;49m\u001b[43mcpu\u001b[49m\u001b[43m(\u001b[49m\u001b[43m)\u001b[49m\n\u001b[1;32m     19\u001b[0m \u001b[38;5;66;03m# compute the loss\u001b[39;00m\n\u001b[1;32m     20\u001b[0m loss \u001b[38;5;241m=\u001b[39m loss_fn(logits, batch_action)\n",
      "\u001b[0;31mKeyboardInterrupt\u001b[0m: "
     ]
    }
   ],
   "source": [
    "# train the network\n",
    "for epoch in range(num_epochs):\n",
    "    gen = storage.get_batch(batch_size)\n",
    "    # accumulate loss\n",
    "    epoch_loss = 0\n",
    "\n",
    "    for batch in range(num_batches):\n",
    "        # get the batch somehow. you can either write a method \n",
    "        # into the storage class or just directly access the \n",
    "        # values in it\n",
    "        \n",
    "        batch_obs, batch_action = next(gen)\n",
    "        batch_obs, batch_action = torch.FloatTensor(batch_obs), torch.FloatTensor(batch_action)\n",
    "        # forward pass\n",
    "        logits = network(batch_obs.to(device))\n",
    "        # need to squeeze out the extra dimension\n",
    "        logits = torch.squeeze(logits).cpu()\n",
    "    \n",
    "        # compute the loss\n",
    "        loss = loss_fn(logits, batch_action)\n",
    "\n",
    "        # backward pass\n",
    "        optimizer.zero_grad()\n",
    "        loss.backward()\n",
    "        optimizer.step()\n",
    "\n",
    "        # accumulate loss\n",
    "        epoch_loss += loss.item()\n",
    "    # print the loss\n",
    "    if epoch % 10 == 1:\n",
    "        print(\"Epoch: {}, Loss: {}\".format(epoch, epoch_loss / num_batches))"
   ]
  },
  {
   "cell_type": "code",
   "execution_count": 10,
   "id": "5dea268d",
   "metadata": {},
   "outputs": [
    {
     "data": {
      "text/plain": [
       "BCNetwork(\n",
       "  (fc1): Linear(in_features=24, out_features=1024, bias=True)\n",
       "  (fc2): Linear(in_features=1024, out_features=1024, bias=True)\n",
       "  (mean_linear): Linear(in_features=1024, out_features=6, bias=True)\n",
       "  (log_std_linear): Linear(in_features=1024, out_features=6, bias=True)\n",
       ")"
      ]
     },
     "execution_count": 10,
     "metadata": {},
     "output_type": "execute_result"
    }
   ],
   "source": [
    "network"
   ]
  },
  {
   "cell_type": "code",
   "execution_count": 12,
   "id": "3e5e1f38",
   "metadata": {},
   "outputs": [],
   "source": [
    "torch.save(network.state_dict(), \"../data/bc_models/walker_1024_bc.pt\")"
   ]
  },
  {
   "cell_type": "markdown",
   "id": "af274c92",
   "metadata": {},
   "source": [
    "# BC Model Eval"
   ]
  },
  {
   "cell_type": "code",
   "execution_count": null,
   "id": "40ed088f",
   "metadata": {},
   "outputs": [],
   "source": [
    "### run the trained network on the environment, based on the evaluate function but using network instead of model\n",
    "def evaluate_network(network, num_episodes=100):\n",
    "    \"\"\"\n",
    "    Evaluate a RL agent\n",
    "    :param model: (BaseRLModel object) the RL Agent\n",
    "    :param num_episodes: (int) number of episodes to evaluate it\n",
    "    :return: (float) Mean reward for the last num_episodes\n",
    "    \"\"\"\n",
    "    all_episode_rewards = []\n",
    "    for i in range(num_episodes):\n",
    "        episode_rewards = []\n",
    "        done = False\n",
    "        obs = env.reset()\n",
    "        while not done:\n",
    "            # _states are only useful when using LSTM policies\n",
    "            # need to add the additional dimenstion becuase of the \n",
    "            # single batch training\n",
    "            action = network(torch.tensor([obs], dtype=torch.float32))\n",
    "            obs, reward, done, info = env.step([action])\n",
    "            episode_rewards.append(reward)\n",
    "\n",
    "        all_episode_rewards.append(sum(episode_rewards))\n",
    "\n",
    "    mean_episode_reward = np.mean(all_episode_rewards)\n",
    "    print(\"Mean reward:\", mean_episode_reward, \"Num episodes:\", num_episodes)\n",
    "\n",
    "    return mean_episode_reward\n",
    "\n",
    "evaluate_network(network)"
   ]
  }
 ],
 "metadata": {
  "kernelspec": {
   "display_name": "Python 3 (ipykernel)",
   "language": "python",
   "name": "python3"
  },
  "language_info": {
   "codemirror_mode": {
    "name": "ipython",
    "version": 3
   },
   "file_extension": ".py",
   "mimetype": "text/x-python",
   "name": "python",
   "nbconvert_exporter": "python",
   "pygments_lexer": "ipython3",
   "version": "3.10.6"
  }
 },
 "nbformat": 4,
 "nbformat_minor": 5
}
