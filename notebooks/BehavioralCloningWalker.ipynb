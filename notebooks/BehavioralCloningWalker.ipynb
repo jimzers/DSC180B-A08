{
 "cells": [
  {
   "cell_type": "code",
   "execution_count": 1,
   "id": "4f46fb5f",
   "metadata": {},
   "outputs": [
    {
     "name": "stdout",
     "output_type": "stream",
     "text": [
      "cuda:0\n"
     ]
    },
    {
     "data": {
      "text/plain": [
       "True"
      ]
     },
     "execution_count": 1,
     "metadata": {},
     "output_type": "execute_result"
    }
   ],
   "source": [
    "### Feel free to disable GPU if you don't have one\n",
    "import torch\n",
    "\n",
    "device = torch.device(\"cuda:0\" if torch.cuda.is_available() else \"cpu\")\n",
    "print(device)\n",
    "torch.cuda.is_available()\n",
    "\n",
    "import gym\n",
    "import numpy as np"
   ]
  },
  {
   "cell_type": "markdown",
   "id": "d9455204",
   "metadata": {},
   "source": [
    "# Behavioral Cloning"
   ]
  },
  {
   "cell_type": "markdown",
   "id": "21e262b5",
   "metadata": {},
   "source": [
    "## Rollout Storage"
   ]
  },
  {
   "cell_type": "code",
   "execution_count": null,
   "id": "1fa322e2",
   "metadata": {},
   "outputs": [],
   "source": [
    "### Make a data structure to load and store Rollouts.\n",
    "### At the very least, you'll need observations and actions.\n",
    "\n",
    "class RolloutStorage:\n",
    "    \"\"\"\n",
    "    An object for easy load and get batch\n",
    "    from the action and observations\n",
    "    \"\"\"\n",
    "    def __init__(self):\n",
    "        self.obs = None\n",
    "        self.action = None\n",
    "\n",
    "    def load_actions(self, file_name):\n",
    "        self.obs = np.load(file_name)\n",
    "    \n",
    "    def load_observations(self, file_name):\n",
    "        self.action = np.load(file_name)\n",
    "\n",
    "    def get_batch(self, batch_size):\n",
    "        curr = 0\n",
    "        while len(self.obs) >= curr:\n",
    "            yield self.obs[curr:curr+batch_size], self.action[curr:curr+batch_size]\n",
    "            curr += batch_size"
   ]
  },
  {
   "cell_type": "markdown",
   "id": "e84577f5",
   "metadata": {},
   "source": [
    "## BC Network"
   ]
  },
  {
   "cell_type": "code",
   "execution_count": null,
   "id": "9fe8fcc8",
   "metadata": {},
   "outputs": [],
   "source": [
    "### Define a network that you'll train through behavioral cloning (supervised learning)\n",
    "\n",
    "import torch\n",
    "import torch.nn as nn\n",
    "import torch.nn.functional as F\n",
    "\n",
    "# BCNetwork but with a discrete action space\n",
    "class BCNetworkDiscrete(nn.Module):\n",
    "    def __init__(self, obs_dim, action_dim):\n",
    "        # assumes that observation and action are one-dimensional\n",
    "        super(BCNetworkDiscrete, self).__init__()\n",
    "        self.obs_dim = obs_dim\n",
    "        self.action_dim = action_dim\n",
    "\n",
    "        self.fc1 = nn.Linear(self.obs_dim, 64)\n",
    "        self.fc2 = nn.Linear(64, 64)\n",
    "        self.fc3 = nn.Linear(64, self.action_dim)\n",
    "\n",
    "    def forward(self, obs):\n",
    "        x = F.relu(self.fc1(obs))\n",
    "        x = F.relu(self.fc2(x))\n",
    "        x = self.fc3(x)\n",
    "        print(x)\n",
    "        x = F.softmax(x, dim=2) # what should you do to x to make it a probability distribution?\n",
    "        return x"
   ]
  },
  {
   "cell_type": "markdown",
   "id": "fa920efd",
   "metadata": {},
   "source": [
    "## Trainning Procedures"
   ]
  },
  {
   "cell_type": "code",
   "execution_count": null,
   "id": "7a1f24d7",
   "metadata": {},
   "outputs": [],
   "source": [
    "### Train the network\n",
    "\n",
    "# initialize the network\n",
    "network = BCNetworkDiscrete(env.observation_space.shape[0], env.action_space.n)\n",
    "\n",
    "# define the optimizer\n",
    "optimizer = torch.optim.Adam(network.parameters(), lr=1e-3)\n",
    "\n",
    "# define the loss function\n",
    "loss_fn = nn.CrossEntropyLoss()\n",
    "\n",
    "# define the number of epochs\n",
    "num_epochs = 10\n",
    "\n",
    "# define the batch size\n",
    "batch_size = 32\n",
    "\n",
    "# define the number of batches\n",
    "num_batches = len(storage.obs) // batch_size\n",
    "\n",
    "# note: you can keep the obs and action completely in memory \n",
    "# (the training loop is set up for that). make sure that:\n",
    "# 1. the types are correct\n",
    "# 2. the shapes match\n",
    "\n",
    "# train the network\n",
    "for epoch in range(num_epochs):\n",
    "    gen = storage.get_batch(batch_size)\n",
    "    # accumulate loss\n",
    "    epoch_loss = 0\n",
    "\n",
    "    for batch in range(num_batches):\n",
    "        # get the batch somehow. you can either write a method \n",
    "        # into the storage class or just directly access the \n",
    "        # values in it\n",
    "        \n",
    "        batch_obs, batch_action = next(gen)\n",
    "        batch_obs, batch_action = torch.FloatTensor(batch_obs), torch.FloatTensor(batch_action)\n",
    "        # forward pass\n",
    "        logits = network(batch_obs)\n",
    "        print(batch_obs.shape)\n",
    "        # need to squeeze out the extra dimension\n",
    "        logits = torch.squeeze(logits)\n",
    "    \n",
    "        # compute the loss\n",
    "        loss = loss_fn(logits, batch_action)\n",
    "\n",
    "        # backward pass\n",
    "        optimizer.zero_grad()\n",
    "        loss.backward()\n",
    "        optimizer.step()\n",
    "\n",
    "        # accumulate loss\n",
    "        epoch_loss += loss.item()\n",
    "    # print the loss\n",
    "    print(\"Epoch: {}, Loss: {}\".format(epoch, epoch_loss / num_batches))\n",
    "    break"
   ]
  },
  {
   "cell_type": "markdown",
   "id": "af274c92",
   "metadata": {},
   "source": [
    "# BC Model Eval"
   ]
  },
  {
   "cell_type": "code",
   "execution_count": null,
   "id": "40ed088f",
   "metadata": {},
   "outputs": [],
   "source": [
    "### run the trained network on the environment, based on the evaluate function but using network instead of model\n",
    "def evaluate_network(network, num_episodes=100):\n",
    "    \"\"\"\n",
    "    Evaluate a RL agent\n",
    "    :param model: (BaseRLModel object) the RL Agent\n",
    "    :param num_episodes: (int) number of episodes to evaluate it\n",
    "    :return: (float) Mean reward for the last num_episodes\n",
    "    \"\"\"\n",
    "    # This function will only work for a single Environment\n",
    "    env = model.get_env()\n",
    "    all_episode_rewards = []\n",
    "    for i in range(num_episodes):\n",
    "        episode_rewards = []\n",
    "        done = False\n",
    "        obs = env.reset()\n",
    "        while not done:\n",
    "            # _states are only useful when using LSTM policies\n",
    "            # need to add the additional dimenstion becuase of the \n",
    "            # single batch training\n",
    "            action = network(torch.tensor([obs], dtype=torch.float32)).argmax().item()\n",
    "            # here, action, rewards and dones are arrays\n",
    "            # because we are using vectorized env\n",
    "            obs, reward, done, info = env.step([action])\n",
    "            episode_rewards.append(reward)\n",
    "\n",
    "        all_episode_rewards.append(sum(episode_rewards))\n",
    "\n",
    "    mean_episode_reward = np.mean(all_episode_rewards)\n",
    "    print(\"Mean reward:\", mean_episode_reward, \"Num episodes:\", num_episodes)\n",
    "\n",
    "    return mean_episode_reward\n",
    "\n",
    "evaluate_network(network)"
   ]
  }
 ],
 "metadata": {
  "kernelspec": {
   "display_name": "Python 3 (clean)",
   "language": "python",
   "name": "python3_clean"
  },
  "language_info": {
   "codemirror_mode": {
    "name": "ipython",
    "version": 3
   },
   "file_extension": ".py",
   "mimetype": "text/x-python",
   "name": "python",
   "nbconvert_exporter": "python",
   "pygments_lexer": "ipython3",
   "version": "3.9.5"
  }
 },
 "nbformat": 4,
 "nbformat_minor": 5
}
