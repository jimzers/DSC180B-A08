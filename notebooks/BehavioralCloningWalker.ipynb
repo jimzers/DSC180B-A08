{
 "cells": [
  {
   "cell_type": "code",
   "execution_count": 1,
   "id": "4f46fb5f",
   "metadata": {},
   "outputs": [
    {
     "name": "stdout",
     "output_type": "stream",
     "text": [
      "cuda:0\n"
     ]
    }
   ],
   "source": [
    "### Feel free to disable GPU if you don't have one\n",
    "import torch\n",
    "\n",
    "device = torch.device(\"cuda:0\" if torch.cuda.is_available() else \"cpu\")\n",
    "print(device)\n",
    "torch.cuda.is_available()\n",
    "\n",
    "import gym\n",
    "import numpy as np"
   ]
  },
  {
   "cell_type": "markdown",
   "id": "d9455204",
   "metadata": {},
   "source": [
    "# Behavioral Cloning"
   ]
  },
  {
   "cell_type": "markdown",
   "id": "21e262b5",
   "metadata": {},
   "source": [
    "## Rollout Storage"
   ]
  },
  {
   "cell_type": "code",
   "execution_count": 15,
   "id": "1fa322e2",
   "metadata": {},
   "outputs": [],
   "source": [
    "### Make a data structure to load and store Rollouts.\n",
    "### At the very least, you'll need observations and actions.\n",
    "\n",
    "class RolloutStorage:\n",
    "    \"\"\"\n",
    "    An object for easy load and get batch\n",
    "    from the action and observations\n",
    "    \"\"\"\n",
    "    def __init__(self):\n",
    "        self.obs = None\n",
    "        self.action = None\n",
    "\n",
    "    def load_actions(self, file_name):\n",
    "        self.obs = np.load(file_name)\n",
    "    \n",
    "    def load_obs(self, file_name):\n",
    "        self.action = np.load(file_name)\n",
    "\n",
    "    def get_batch(self, batch_size):\n",
    "        curr = 0\n",
    "        while len(self.obs) >= curr:\n",
    "            yield self.obs[curr:curr+batch_size], self.action[curr:curr+batch_size]\n",
    "            curr += batch_size"
   ]
  },
  {
   "cell_type": "code",
   "execution_count": 18,
   "id": "816e6b9a",
   "metadata": {},
   "outputs": [],
   "source": [
    "storage = RolloutStorage()\n",
    "storage.load_actions(\"../data/rollouts/actions_500.npy\")\n",
    "storage.load_obs(\"../data/rollouts/states_500.npy\")"
   ]
  },
  {
   "cell_type": "code",
   "execution_count": 19,
   "id": "2ac8869e",
   "metadata": {},
   "outputs": [
    {
     "data": {
      "text/plain": [
       "((500000, 6), (500000, 24))"
      ]
     },
     "execution_count": 19,
     "metadata": {},
     "output_type": "execute_result"
    }
   ],
   "source": [
    "storage.obs.shape, storage.action.shape"
   ]
  },
  {
   "cell_type": "code",
   "execution_count": 24,
   "id": "5fc37a74",
   "metadata": {},
   "outputs": [
    {
     "data": {
      "text/plain": [
       "-55.91955"
      ]
     },
     "execution_count": 24,
     "metadata": {},
     "output_type": "execute_result"
    }
   ],
   "source": [
    "storage.action.min()"
   ]
  },
  {
   "cell_type": "markdown",
   "id": "e84577f5",
   "metadata": {},
   "source": [
    "## BC Network"
   ]
  },
  {
   "cell_type": "code",
   "execution_count": 36,
   "id": "9fe8fcc8",
   "metadata": {},
   "outputs": [],
   "source": [
    "### Define a network that you'll train through behavioral cloning (supervised learning)\n",
    "\n",
    "import torch\n",
    "import torch.nn as nn\n",
    "import torch.nn.functional as F\n",
    "\n",
    "# BCNetwork with continuous action space\n",
    "class BCNetwork(nn.Module):\n",
    "    def __init__(self, obs_dim, action_dim):\n",
    "        # assumes that observation and action are one-dimensional\n",
    "        super(BCNetwork, self).__init__()\n",
    "        self.obs_dim = obs_dim\n",
    "        self.action_dim = action_dim\n",
    "\n",
    "        self.fc1 = nn.Linear(self.obs_dim, 256)\n",
    "        self.fc2 = nn.Linear(256, 256)\n",
    "        self.fc3 = nn.Linear(256, self.action_dim)\n",
    "\n",
    "    def forward(self, obs):\n",
    "        x = F.relu(self.fc1(obs.to(device)))\n",
    "        x = F.relu(self.fc2(x))\n",
    "        x = self.fc3(x)\n",
    "        return x"
   ]
  },
  {
   "cell_type": "markdown",
   "id": "fa920efd",
   "metadata": {},
   "source": [
    "## Trainning Procedures"
   ]
  },
  {
   "cell_type": "code",
   "execution_count": 43,
   "id": "7a1f24d7",
   "metadata": {},
   "outputs": [
    {
     "name": "stdout",
     "output_type": "stream",
     "text": [
      "Epoch: 0, Loss: 14.617555717952916\n",
      "Epoch: 1, Loss: 13.69321315992074\n",
      "Epoch: 2, Loss: 13.688372975490132\n",
      "Epoch: 3, Loss: 13.683413810417301\n",
      "Epoch: 4, Loss: 13.678872022472444\n",
      "Epoch: 5, Loss: 13.679166696110709\n",
      "Epoch: 6, Loss: 13.678646288934301\n",
      "Epoch: 7, Loss: 13.680067464953563\n",
      "Epoch: 8, Loss: 13.678012163912664\n",
      "Epoch: 9, Loss: 13.681565276912002\n",
      "Epoch: 10, Loss: 13.679486513137817\n",
      "Epoch: 11, Loss: 13.679545586226416\n",
      "Epoch: 12, Loss: 13.678526188506455\n",
      "Epoch: 13, Loss: 13.678175556855123\n",
      "Epoch: 14, Loss: 13.678426633115675\n",
      "Epoch: 15, Loss: 13.677955904944998\n",
      "Epoch: 16, Loss: 13.678476722514043\n",
      "Epoch: 17, Loss: 13.680178952998803\n",
      "Epoch: 18, Loss: 13.680200029592045\n",
      "Epoch: 19, Loss: 13.679176709691031\n",
      "Epoch: 20, Loss: 13.680018133804447\n",
      "Epoch: 21, Loss: 13.681466550123496\n",
      "Epoch: 22, Loss: 13.681161376296497\n",
      "Epoch: 23, Loss: 13.681681742433641\n",
      "Epoch: 24, Loss: 13.681253937424206\n",
      "Epoch: 25, Loss: 13.680865604369366\n",
      "Epoch: 26, Loss: 13.681230388703893\n",
      "Epoch: 27, Loss: 13.682417767946838\n",
      "Epoch: 28, Loss: 13.681773340115782\n",
      "Epoch: 29, Loss: 13.680990867927425\n",
      "Epoch: 30, Loss: 13.681796550750732\n",
      "Epoch: 31, Loss: 13.682002204363464\n",
      "Epoch: 32, Loss: 13.68144006807296\n",
      "Epoch: 33, Loss: 13.68168800776122\n",
      "Epoch: 34, Loss: 13.681184856618037\n",
      "Epoch: 35, Loss: 13.682011070798655\n",
      "Epoch: 36, Loss: 13.681899442047369\n",
      "Epoch: 37, Loss: 13.681415305762995\n",
      "Epoch: 38, Loss: 13.682089446020909\n",
      "Epoch: 39, Loss: 13.681147016462733\n",
      "Epoch: 40, Loss: 13.68224400965894\n",
      "Epoch: 41, Loss: 13.681914984202775\n",
      "Epoch: 42, Loss: 13.681724036326173\n",
      "Epoch: 43, Loss: 13.681946093918848\n",
      "Epoch: 44, Loss: 13.682319959656137\n",
      "Epoch: 45, Loss: 13.681766511964016\n",
      "Epoch: 46, Loss: 13.682432647611273\n",
      "Epoch: 47, Loss: 13.681429046099304\n",
      "Epoch: 48, Loss: 13.681629515085064\n",
      "Epoch: 49, Loss: 13.682155437156803\n"
     ]
    }
   ],
   "source": [
    "### Train the network\n",
    "\n",
    "# initialize the network\n",
    "network = BCNetwork(storage.obs.shape[1], storage.action.shape[1]).to(device)\n",
    "\n",
    "# define the optimizer\n",
    "optimizer = torch.optim.Adam(network.parameters(), lr=1e-1)\n",
    "\n",
    "# define the loss function\n",
    "loss_fn = F.mse_loss\n",
    "\n",
    "# define the number of epochs\n",
    "num_epochs = 50\n",
    "\n",
    "# define the batch size\n",
    "batch_size = 1024\n",
    "\n",
    "# define the number of batches\n",
    "num_batches = len(storage.obs) // batch_size\n",
    "\n",
    "# note: you can keep the obs and action completely in memory \n",
    "# (the training loop is set up for that). make sure that:\n",
    "# 1. the types are correct\n",
    "# 2. the shapes match\n",
    "\n",
    "# train the network\n",
    "for epoch in range(num_epochs):\n",
    "    gen = storage.get_batch(batch_size)\n",
    "    # accumulate loss\n",
    "    epoch_loss = 0\n",
    "\n",
    "    for batch in range(num_batches):\n",
    "        # get the batch somehow. you can either write a method \n",
    "        # into the storage class or just directly access the \n",
    "        # values in it\n",
    "        \n",
    "        batch_obs, batch_action = next(gen)\n",
    "        batch_obs, batch_action = torch.FloatTensor(batch_obs), torch.FloatTensor(batch_action)\n",
    "        # forward pass\n",
    "        logits = network(batch_obs.to(device))\n",
    "        # need to squeeze out the extra dimension\n",
    "        logits = torch.squeeze(logits).cpu()\n",
    "    \n",
    "        # compute the loss\n",
    "        loss = loss_fn(logits, batch_action)\n",
    "\n",
    "        # backward pass\n",
    "        optimizer.zero_grad()\n",
    "        loss.backward()\n",
    "        optimizer.step()\n",
    "\n",
    "        # accumulate loss\n",
    "        epoch_loss += loss.item()\n",
    "    # print the loss\n",
    "    print(\"Epoch: {}, Loss: {}\".format(epoch, epoch_loss / num_batches))"
   ]
  },
  {
   "cell_type": "markdown",
   "id": "af274c92",
   "metadata": {},
   "source": [
    "# BC Model Eval"
   ]
  },
  {
   "cell_type": "code",
   "execution_count": null,
   "id": "40ed088f",
   "metadata": {},
   "outputs": [],
   "source": [
    "### run the trained network on the environment, based on the evaluate function but using network instead of model\n",
    "def evaluate_network(network, num_episodes=100):\n",
    "    \"\"\"\n",
    "    Evaluate a RL agent\n",
    "    :param model: (BaseRLModel object) the RL Agent\n",
    "    :param num_episodes: (int) number of episodes to evaluate it\n",
    "    :return: (float) Mean reward for the last num_episodes\n",
    "    \"\"\"\n",
    "    all_episode_rewards = []\n",
    "    for i in range(num_episodes):\n",
    "        episode_rewards = []\n",
    "        done = False\n",
    "        obs = env.reset()\n",
    "        while not done:\n",
    "            # _states are only useful when using LSTM policies\n",
    "            # need to add the additional dimenstion becuase of the \n",
    "            # single batch training\n",
    "            action = network(torch.tensor([obs], dtype=torch.float32))\n",
    "            obs, reward, done, info = env.step([action])\n",
    "            episode_rewards.append(reward)\n",
    "\n",
    "        all_episode_rewards.append(sum(episode_rewards))\n",
    "\n",
    "    mean_episode_reward = np.mean(all_episode_rewards)\n",
    "    print(\"Mean reward:\", mean_episode_reward, \"Num episodes:\", num_episodes)\n",
    "\n",
    "    return mean_episode_reward\n",
    "\n",
    "evaluate_network(network)"
   ]
  }
 ],
 "metadata": {
  "kernelspec": {
   "display_name": "Python 3 (clean)",
   "language": "python",
   "name": "python3_clean"
  },
  "language_info": {
   "codemirror_mode": {
    "name": "ipython",
    "version": 3
   },
   "file_extension": ".py",
   "mimetype": "text/x-python",
   "name": "python",
   "nbconvert_exporter": "python",
   "pygments_lexer": "ipython3",
   "version": "3.9.5"
  }
 },
 "nbformat": 4,
 "nbformat_minor": 5
}
